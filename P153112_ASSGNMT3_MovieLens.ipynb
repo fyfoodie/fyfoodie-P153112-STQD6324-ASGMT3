{
 "cells": [
  {
   "cell_type": "markdown",
   "id": "a256a216-c8d5-4a58-a188-0b34ab85ed3e",
   "metadata": {},
   "source": [
    "#    Assignment 3 (20%) \n",
    "# STQD6324 Data Management \n",
    "#  SEMESTER 2 2024/2025 "
   ]
  },
  {
   "cell_type": "markdown",
   "id": "634ef98a-ca47-4d1f-91b5-01ecbeddd1e3",
   "metadata": {},
   "source": [
    "This notebook answers all parts of the assignment using Spark2 and MongoDB.  \n",
    "We inserted the MovieLens 100k data into MongoDB, and used Spark to compute the following:\n",
    "\n",
    "1. Calculate average ratings per movie.\n",
    "2. Identify the top 10 highest rated movies.\n",
    "3. Find the users who have rated at least 50 movies and identify their favourite movie \n",
    "genres. \n",
    "4. Find all the users who are less than 20 years old. \n",
    "5. Find all the users whose occupation is “scientist” and whose age is between 30 and 40 \n",
    "years old. "
   ]
  },
  {
   "cell_type": "markdown",
   "id": "9600bcbd-0e8a-40aa-83d4-520abccfc54d",
   "metadata": {},
   "source": [
    "> **⚠️ Note Limitation :**\n",
    "This notebook contains PySpark and MongoDB integration code. Due to environment limitations, the code cells cannot be executed directly in GitHub or Jupyter Notebook. However, all scripts were tested using `spark-submit` inside the HDP Sandbox, and results are shown below each cell for reference."
   ]
  },
  {
   "cell_type": "markdown",
   "id": "bd9c34cf-a5e1-4fe7-afbe-85fd3b532d57",
   "metadata": {},
   "source": [
    "### Question i : Calculate the average rating for each movie"
   ]
  },
  {
   "cell_type": "markdown",
   "id": "6503b6ec-0c88-4436-a167-9f8e20a420af",
   "metadata": {},
   "source": [
    "**Section 1: Insert Data into MongoDB**\n",
    "\n",
    "We first inserted the u.user and u.data files into MongoDB using the script below:"
   ]
  },
  {
   "cell_type": "code",
   "execution_count": null,
   "id": "a6c8a6f4-d467-4c7c-a27f-73e737c83b45",
   "metadata": {},
   "outputs": [],
   "source": [
    "vi mongo_insert.py\n",
    "\n",
    "\"\n",
    "# -*- coding: utf-8 -*-\n",
    "from pymongo import MongoClient\n",
    "\n",
    "# Connect to MongoDB\n",
    "client = MongoClient(\"mongodb://localhost:27017/\")\n",
    "db = client[\"movielens\"]\n",
    "\n",
    "# --- Insert u.user ---\n",
    "db.users.drop()\n",
    "with open(\"/home/maria_dev/ml-100k/u.user\") as f:\n",
    "    for line in f:\n",
    "        uid, age, gender, occupation, zipc = line.strip().split(\"|\")\n",
    "        db.users.insert_one({\n",
    "            \"user_id\": int(uid),\n",
    "            \"age\": int(age),\n",
    "            \"gender\": gender,\n",
    "            \"occupation\": occupation,\n",
    "            \"zip_code\": zipc\n",
    "        })\n",
    "\n",
    "# --- Insert u.data (ratings) ---\n",
    "db.ratings.drop()\n",
    "ratings_batch = []\n",
    "with open(\"/home/maria_dev/ml-100k/u.data\") as f:\n",
    "    for line in f:\n",
    "        uid, mid, rate, ts = line.strip().split(\"\\t\")\n",
    "        ratings_batch.append({\n",
    "            \"user_id\": int(uid),\n",
    "            \"movie_id\": int(mid),\n",
    "            \"rating\": int(rate),\n",
    "            \"timestamp\": int(ts)\n",
    "        })\n",
    "db.ratings.insert_many(ratings_batch)\n",
    "\n",
    "print(\"Data inserted into MongoDB.\")\n",
    "\""
   ]
  },
  {
   "cell_type": "markdown",
   "id": "3030f9dd-ca34-4aee-898b-92372c8b43c8",
   "metadata": {},
   "source": [
    " Data *insertion* was verified via Mongo Shell:"
   ]
  },
  {
   "cell_type": "code",
   "execution_count": null,
   "id": "4c14a920-dc79-40e2-968b-04316a32f81b",
   "metadata": {},
   "outputs": [],
   "source": [
    "> use movielens\n",
    "switched to db movielens\n",
    "> db.ratings.count()\n",
    "100000\n",
    "> db.users.findOne()\n",
    "{\n",
    "        \"_id\" : ObjectId(\"686280494707626e58a81ceb\"),\n",
    "        \"user_id\" : 1,\n",
    "        \"occupation\" : \"technician\",\n",
    "        \"gender\" : \"M\",\n",
    "        \"age\" : 24,\n",
    "        \"zip_code\" : \"85711\"\n",
    "}\n",
    ">"
   ]
  },
  {
   "cell_type": "code",
   "execution_count": null,
   "id": "c80cb7bc-e78b-43a7-a98d-f764c7a0b136",
   "metadata": {},
   "outputs": [],
   "source": [
    "# -*- coding: utf-8 -*-\n",
    "# spark_query_q1.py\n",
    "from pyspark.sql import SparkSession\n",
    "\n",
    "# Step 1: Create SparkSession with MongoDB config\n",
    "spark = SparkSession.builder \\\n",
    "    .appName(\"Average Rating Per Movie\") \\\n",
    "    .config(\"spark.mongodb.input.uri\", \"mongodb://127.0.0.1/movielens.ratings\") \\\n",
    "    .config(\"spark.mongodb.output.uri\", \"mongodb://127.0.0.1/movielens.output\") \\\n",
    "    .getOrCreate()\n",
    "\n",
    "# Step 2: Load 'ratings' collection\n",
    "ratings_df = spark.read.format(\"com.mongodb.spark.sql.DefaultSource\") \\\n",
    "    .option(\"uri\", \"mongodb://127.0.0.1/movielens.ratings\") \\\n",
    "    .load()\n",
    "\n",
    "# Step 3: Load 'movies' collection (for movie titles)\n",
    "movies_df = spark.read.format(\"com.mongodb.spark.sql.DefaultSource\") \\\n",
    "    .option(\"uri\", \"mongodb://127.0.0.1/movielens.movies\") \\\n",
    "    .load()\n",
    "\n",
    "# Step 4: Join ratings with movies on movie_id\n",
    "joined_df = ratings_df.join(movies_df, on=\"movie_id\", how=\"inner\")\n",
    "\n",
    "# Step 5: Calculate average rating per movie\n",
    "avg_ratings_df = joined_df.groupBy(\"movie_id\", \"title\") \\\n",
    "    .avg(\"rating\") \\\n",
    "    .withColumnRenamed(\"avg(rating)\", \"avg_rating\")\n",
    "\n",
    "# Step 6: Round the average ratings to 2 decimal places\n",
    "from pyspark.sql.functions import round\n",
    "avg_ratings_df = avg_ratings_df.withColumn(\"avg_rating\", round(avg_ratings_df.avg_rating, 2))\n",
    "\n",
    "# Step 7: Show result\n",
    "avg_ratings_df.orderBy(\"movie_id\").show(truncate=False)\n",
    "\n",
    "# Step 8: Stop Spark\n",
    "spark.stop()\n",
    "\n",
    "-----------------------------------\n",
    "spark-submit \\\n",
    "  --jars /home/maria_dev/mongo-spark-connector_2.11-2.3.2.jar,/home/maria_dev/.ivy2/jars/org.mongodb_mongo-java-driver-3.8.2.jar \\\n",
    "  spark_query_q1.py\n",
    "-----------------------------------"
   ]
  },
  {
   "cell_type": "markdown",
   "id": "d9d17fdb-0e46-4060-81ee-e0e814f5fc14",
   "metadata": {},
   "source": [
    "+--------+----------------------------------------------------+----------+  \n",
    "|movie_id|title                                               |avg_rating|  \n",
    "+--------+----------------------------------------------------+----------+  \n",
    "|1       |Toy Story (1995)                                    |3.88      |  \n",
    "|2       |GoldenEye (1995)                                    |3.21      |  \n",
    "|3       |Four Rooms (1995)                                   |3.03      |  \n",
    "|4       |Get Shorty (1995)                                   |3.55      |    \n",
    "|5       |Copycat (1995)                                      |3.3       |  \n",
    "|6       |Shanghai Triad (Yao a yao yao dao waipo qiao) (1995)|3.58      |  \n",
    "|7       |Twelve Monkeys (1995)                               |3.8       |    \n",
    "|8       |Babe (1995)                                         |4.0       |  \n",
    "|9       |Dead Man Walking (1995)                             |3.9       |  \n",
    "|10      |Richard III (1995)                                  |3.83      |  \n",
    "|11      |Seven (Se7en) (1995)                                |3.85      |  \n",
    "|12      |Usual Suspects, The (1995)                          |4.39      |  \n",
    "|13      |Mighty Aphrodite (1995)                             |3.42      |  \n",
    "|14      |Postino, Il (1994)                                  |3.97      |  \n",
    "|15      |Mr. Holland's Opus (1995)                           |3.78      |  \n",
    "|16      |French Twist (Gazon maudit) (1995)                  |3.21      |  \n",
    "|17      |From Dusk Till Dawn (1996)                          |3.12      |  \n",
    "|18      |White Balloon, The (1995)                           |2.8       |  \n",
    "|19      |Antonia's Line (1995)                               |3.96      |  \n",
    "|20      |Angels and Insects (1995)                           |3.42      |  \n",
    "+--------+----------------------------------------------------+----------+  \n",
    "only showing top 20 rows  "
   ]
  },
  {
   "cell_type": "markdown",
   "id": "63be3c76-b520-4bd5-aafe-e70367658cf3",
   "metadata": {},
   "source": [
    "## Question ii : Identify the top ten movies with the highest average ratings. "
   ]
  },
  {
   "cell_type": "markdown",
   "id": "769c46a9-950f-4c60-9340-095866a49fd4",
   "metadata": {},
   "source": [
    "**Section 1: Insert Movie Metadata**  \n",
    "We inserted the u.item file containing movie metadata into MongoDB as follows:"
   ]
  },
  {
   "cell_type": "code",
   "execution_count": null,
   "id": "69f2af9d-d07e-4de8-b2ba-6da70c8d236b",
   "metadata": {},
   "outputs": [],
   "source": [
    "✅ vi mongo_insert_item.py \n",
    "\n",
    "from pymongo import MongoClient\n",
    "import codecs\n",
    "\n",
    "client = MongoClient(\"mongodb://localhost:27017/\")\n",
    "db = client[\"movielens\"]\n",
    "collection = db[\"movies\"]\n",
    "\n",
    "with codecs.open(\"/home/maria_dev/ml-100k/u.item\", \"r\", \"ISO-8859-1\") as file:\n",
    "    for line in file:\n",
    "        fields = line.strip().split('|')\n",
    "        if len(fields) >= 3:\n",
    "            doc = {\n",
    "                \"movie_id\": int(fields[0]),\n",
    "                \"title\": fields[1],\n",
    "                \"release_date\": fields[2]\n",
    "            }\n",
    "            collection.insert_one(doc)\n",
    "\n",
    "print(\"Done inserting u.item into MongoDB.\")"
   ]
  },
  {
   "cell_type": "markdown",
   "id": "fb5634df-0ff3-4ce8-8761-ed9a61a1ee27",
   "metadata": {},
   "source": [
    "**Section 2: Spark Query for Top Rated Movies**  \n",
    "Then, we performed a join and sorted by descending average ratings using this script:"
   ]
  },
  {
   "cell_type": "code",
   "execution_count": null,
   "id": "d720cd2a-df63-441a-ab94-36355741d491",
   "metadata": {},
   "outputs": [],
   "source": [
    "✅ vi spark_query_q2.py (Spark + MongoDB join)\n",
    "\n",
    "from pyspark.sql import SparkSession\n",
    "from pyspark.sql.functions import avg\n",
    "\n",
    "# Spark session with correct MongoDB config\n",
    "spark = SparkSession.builder \\\n",
    "    .appName(\"Q1_MovieAverageRatings\") \\\n",
    "    .config(\"spark.mongodb.input.uri\", \"mongodb://127.0.0.1/movielens.ratings\") \\\n",
    "    .config(\"spark.mongodb.output.uri\", \"mongodb://127.0.0.1/movielens.output\") \\\n",
    "    .getOrCreate()\n",
    "\n",
    "# Load ratings\n",
    "ratings_df = spark.read.format(\"com.mongodb.spark.sql.DefaultSource\").load()\n",
    "\n",
    "# Load movies\n",
    "movies_df = spark.read.format(\"com.mongodb.spark.sql.DefaultSource\") \\\n",
    "    .option(\"uri\", \"mongodb://127.0.0.1/movielens.movies\") \\\n",
    "    .load()\n",
    "\n",
    "# Check schemas (debug)\n",
    "print(\"📌 Ratings Schema:\")\n",
    "ratings_df.printSchema()\n",
    "print(\"📌 Movies Schema:\")\n",
    "movies_df.printSchema()\n",
    "\n",
    "# Join on movie_id\n",
    "joined_df = ratings_df.join(movies_df, on=\"movie_id\")\n",
    "\n",
    "# Compute average rating and sort\n",
    "avg_ratings = joined_df.groupBy(\"movie_id\", \"title\") \\\n",
    "    .agg(avg(\"rating\").alias(\"avg_rating\")) \\\n",
    "    .orderBy(\"avg_rating\", ascending=False) \\\n",
    "    .limit(10)\n",
    "\n",
    "# Show results\n",
    "avg_ratings.show(truncate=False)\n",
    "\n",
    "# Stop session\n",
    "spark.stop()"
   ]
  },
  {
   "cell_type": "markdown",
   "id": "551cdd55-4602-43e4-918a-d6b5b1304e86",
   "metadata": {},
   "source": [
    "+--------+-------------------------------------------------+----------+  \n",
    "|movie_id|title                                            |avg_rating|  \n",
    "+--------+-------------------------------------------------+----------+  \n",
    "|1599    |Someone Else's America (1995)                    |5.0       |   \n",
    "|1293    |Star Kid (1997)                                  |5.0       |  \n",
    "|1653    |Entertaining Angels: The Dorothy Day Story (1996)|5.0       |  \n",
    "|1201    |Marlene Dietrich: Shadow and Light (1996)        |5.0       |  \n",
    "|1189    |Prefontaine (1997)                               |5.0       |  \n",
    "|1467    |Saint of Fort Washington, The (1993)             |5.0       |  \n",
    "|1122    |They Made Me a Criminal (1939)                   |5.0       |  \n",
    "|1500    |Santa with Muscles (1996)                        |5.0       |  \n",
    "|1536    |Aiqing wansui (1994)                             |5.0       |  \n",
    "|814     |Great Day in Harlem, A (1994)                    |5.0       |  \n",
    "+--------+-------------------------------------------------+----------+   "
   ]
  },
  {
   "cell_type": "markdown",
   "id": "9e60466c-8a88-4c3c-a686-3ddf68b11986",
   "metadata": {},
   "source": [
    "## Question iii : Find the users who rated ≥ 50 movies and their favourite movie genres."
   ]
  },
  {
   "cell_type": "markdown",
   "id": "3d374835-6733-4f80-800e-408148da3d99",
   "metadata": {},
   "source": [
    "This question finds users who have rated at least 50 movies and identifies their most frequent movie genre.  \n",
    "To do this, we joined the ratings and movies collections from MongoDB, exploded genre lists, counted them per user,  \n",
    "and selected the top genre per user."
   ]
  },
  {
   "cell_type": "markdown",
   "id": "432e7e29-dbcc-4e95-9b61-8e0a95151b41",
   "metadata": {},
   "source": [
    "**Section 1: Insert Genre-Mapped Movies into MongoDB**"
   ]
  },
  {
   "cell_type": "code",
   "execution_count": null,
   "id": "5a58ece8-9b46-49f5-ba09-a0bb2eb1772c",
   "metadata": {},
   "outputs": [],
   "source": [
    "🐍 PySpark + Mongo\n",
    "\n",
    "vi mongo_q3.py\n",
    "\"\n",
    "# -*- coding: utf-8 -*-\n",
    "from pymongo import MongoClient\n",
    "import codecs \n",
    "\n",
    "# Connect to MongoDB\n",
    "client = MongoClient(\"mongodb://localhost:27017/\")\n",
    "db = client[\"movielens\"]\n",
    "\n",
    "# --- Load genre index to name mapping from u.genre ---\n",
    "genre_map = {}\n",
    "with open(\"/home/maria_dev/ml-100k/u.genre\") as f:\n",
    "    for line in f:\n",
    "        parts = line.strip().split(\"|\")\n",
    "        if len(parts) == 2:\n",
    "            genre_name, genre_id = parts\n",
    "            genre_map[int(genre_id)] = genre_name\n",
    "        else:\n",
    "            print(\"⚠️ Skipping malformed genre line:\", repr(line.strip()))\n",
    "\n",
    "# --- Insert u.item (movies) into MongoDB ---\n",
    "db.movies.drop()\n",
    "with codecs.open(\"/home/maria_dev/ml-100k/u.item\", encoding=\"ISO-8859-1\") as f:\n",
    "    for line in f:\n",
    "        parts = line.strip().split(\"|\")\n",
    "        if len(parts) >= 24:\n",
    "            movie_id = int(parts[0])\n",
    "            title = parts[1]\n",
    "            release_date = parts[2]\n",
    "            genre_flags = list(map(int, parts[5:24]))  # binary genre indicators\n",
    "            genres = [genre_map[i] for i, flag in enumerate(genre_flags) if flag == 1]\n",
    "\n",
    "            db.movies.insert_one({\n",
    "                \"movie_id\": movie_id,\n",
    "                \"title\": title,\n",
    "                \"release_date\": release_date,\n",
    "                \"genres\": genres\n",
    "            })\n",
    "        else:\n",
    "            print(\"⚠️ Skipping malformed movie line:\", repr(line.strip()))\n",
    "\n",
    "print(\"✅ Movie data inserted with genre names.\")\n",
    "\""
   ]
  },
  {
   "cell_type": "markdown",
   "id": "5279edb3-edcc-4043-a0d3-8c11efde5dc4",
   "metadata": {},
   "source": [
    "**Section 2: PySpark Query to Identify Favourite Genres**"
   ]
  },
  {
   "cell_type": "code",
   "execution_count": null,
   "id": "5205bb79-b4e2-4a80-92fb-0792a0fdb0a5",
   "metadata": {},
   "outputs": [],
   "source": [
    "✅ vi spark_query_q3.py\n",
    "\"\n",
    "from pyspark.sql import SparkSession\n",
    "from pyspark.sql.functions import explode, col, count, row_number\n",
    "from pyspark.sql.window import Window\n",
    "\n",
    "# Create Spark session\n",
    "spark = SparkSession.builder \\\n",
    "    .appName(\"Q3_UserFavoriteGenres\") \\\n",
    "    .config(\"spark.mongodb.input.uri\", \"mongodb://127.0.0.1/movielens.ratings\") \\\n",
    "    .config(\"spark.mongodb.output.uri\", \"mongodb://127.0.0.1/movielens.output\") \\\n",
    "    .getOrCreate()\n",
    "\n",
    "# Load ratings and movies\n",
    "ratings_df = spark.read.format(\"com.mongodb.spark.sql.DefaultSource\").load()\n",
    "movies_df = spark.read.format(\"com.mongodb.spark.sql.DefaultSource\") \\\n",
    "    .option(\"uri\", \"mongodb://127.0.0.1/movielens.movies\") \\\n",
    "    .load()\n",
    "\n",
    "# Join on movie_id\n",
    "joined_df = ratings_df.join(movies_df, on=\"movie_id\")\n",
    "\n",
    "# Explode genres (each row becomes one genre)\n",
    "exploded_df = joined_df.select(\"user_id\", explode(\"genres\").alias(\"genre\"))\n",
    "\n",
    "# Count how many times each user rated each genre\n",
    "user_genre_counts = exploded_df.groupBy(\"user_id\", \"genre\").agg(count(\"*\").alias(\"genre_count\"))\n",
    "\n",
    "# Window function to rank genres per user\n",
    "window_spec = Window.partitionBy(\"user_id\").orderBy(col(\"genre_count\").desc())\n",
    "\n",
    "# Add rank column to get top genre(s)\n",
    "ranked_genres = user_genre_counts.withColumn(\"rank\", row_number().over(window_spec))\n",
    "\n",
    "# Filter only top genre(s) per user\n",
    "top_genres_per_user = ranked_genres.filter(col(\"rank\") == 1)\n",
    "\n",
    "# Now get users who rated at least 50 movies\n",
    "user_rating_counts = ratings_df.groupBy(\"user_id\").agg(count(\"*\").alias(\"rating_count\"))\n",
    "active_users = user_rating_counts.filter(col(\"rating_count\") >= 50)\n",
    "\n",
    "# Join with top genres to get only active users' favorite genres\n",
    "result = active_users.join(top_genres_per_user, on=\"user_id\") \\\n",
    "    .select(\"user_id\", \"rating_count\", \"genre\")\n",
    "\n",
    "# Show result\n",
    "result.orderBy(\"user_id\").show(truncate=False)\n",
    "\n",
    "# Stop Spark\n",
    "spark.stop()\n",
    "\""
   ]
  },
  {
   "cell_type": "markdown",
   "id": "f3deac6e-cdd1-4c7c-be33-62923a5d5305",
   "metadata": {},
   "source": [
    "Here are the top genres per active user:"
   ]
  },
  {
   "cell_type": "raw",
   "id": "5b9535f7-fb9e-4df4-93a1-5346c959d7ee",
   "metadata": {},
   "source": [
    "+-------+------------+--------+  \n",
    "|user_id|rating_count|genre   |  \n",
    "+-------+------------+--------+  \n",
    "|1      |272         |Drama   |  \n",
    "|2      |62          |Drama   |  \n",
    "|3      |54          |Drama   |    \n",
    "|5      |175         |Comedy  |  \n",
    "|6      |211         |Drama   |  \n",
    "|7      |403         |Drama   |  \n",
    "|8      |59          |Action  |  \n",
    "|10     |184         |Drama   |    \n",
    "|11     |181         |Drama   |  \n",
    "|12     |51          |Drama   |  \n",
    "|13     |636         |Drama   |  \n",
    "|14     |98          |Drama   |  \n",
    "|15     |104         |Drama   |  \n",
    "|16     |140         |Drama   |  \n",
    "|18     |277         |Drama   |  \n",
    "|21     |179         |Thriller|  \n",
    "|22     |128         |Comedy  |  \n",
    "|23     |151         |Drama   |  \n",
    "|24     |68          |Drama   |  \n",
    "|25     |78          |Comedy  |   \n",
    "+-------+------------+--------+   \n"
   ]
  },
  {
   "cell_type": "markdown",
   "id": "23176e4d-8007-4f38-9c04-dddeed376ca0",
   "metadata": {},
   "source": [
    "## Question iv : Find all the users who are less than 20 years old.  \n",
    "\n",
    "- filters users from the MongoDB `users` collection where age is below 20."
   ]
  },
  {
   "cell_type": "markdown",
   "id": "91b65ec0-5d12-48be-bc49-f05f2cd5e60d",
   "metadata": {},
   "source": [
    "**PySpark Query**"
   ]
  },
  {
   "cell_type": "code",
   "execution_count": null,
   "id": "8382be08-4243-45ee-b0c3-b71d6695083d",
   "metadata": {},
   "outputs": [],
   "source": [
    "vi spark_query_q4.py\n",
    "\n",
    "----------------------------------------------------------------------------------\n",
    "from pyspark.sql import SparkSession\n",
    "\n",
    "# Initialize SparkSession\n",
    "spark = SparkSession.builder \\\n",
    "    .appName(\"Find Users Under 20\") \\\n",
    "    .config(\"spark.mongodb.input.uri\", \"mongodb://127.0.0.1/movielens.users\") \\\n",
    "    .getOrCreate()\n",
    "\n",
    "# Load users collection from MongoDB\n",
    "users_df = spark.read.format(\"com.mongodb.spark.sql.DefaultSource\").load()\n",
    "\n",
    "# Filter users under 20\n",
    "young_users_df = users_df.filter(users_df.age < 20)\n",
    "\n",
    "# Show result\n",
    "young_users_df.show()\n",
    "\n",
    "# Stop the session\n",
    "spark.stop()\n",
    "\n",
    "\n",
    "----------------------------------------------------------------------------------------\n",
    "\n",
    "spark-submit \\\n",
    "  --jars mongo-spark-connector_2.11-2.3.2.jar,mongo-java-driver-3.12.10.jar \\\n",
    "  spark_q4.py\n",
    "\n",
    "----------------------------------------------------------------------------------------\n"
   ]
  },
  {
   "cell_type": "markdown",
   "id": "a8075874-5909-4817-9abf-7d8cec2301b0",
   "metadata": {},
   "source": [
    "Result shows users below 20 years old:"
   ]
  },
  {
   "cell_type": "raw",
   "id": "7c0cfa12-b7b3-4c98-aea7-ccacb67d7e1b",
   "metadata": {},
   "source": [
    "\n",
    "+--------------------+---+------+-------------+-------+--------+  \n",
    "|                 _id|age|gender|   occupation|user_id|zip_code|  \n",
    "+--------------------+---+------+-------------+-------+--------+  \n",
    "|[686280494707626e...|  7|     M|      student|     30|   55436|  \n",
    "|[686280494707626e...| 19|     F|      student|     36|   93117|  \n",
    "|[686280494707626e...| 18|     F|      student|     52|   55105|  \n",
    "|[686280494707626e...| 16|     M|         none|     57|   84010|  \n",
    "|[686280494707626e...| 17|     M|      student|     67|   60402|  \n",
    "|[686280494707626e...| 19|     M|      student|     68|   22904|  \n",
    "|[686280494707626e...| 15|     M|      student|    101|   05146|  \n",
    "|[686280494707626e...| 19|     M|      student|    110|   77840|  \n",
    "|[686280494707626e...| 13|     M|        other|    142|   48118|  \n",
    "|[686280494707626e...| 15|     M|entertainment|    179|   20755|  \n",
    "|[686280494707626e...| 14|     F|      student|    206|   53115|   \n",
    "|[686280494707626e...| 19|     M|      student|    221|   20685|   \n",
    "|[686280494707626e...| 19|     F|      student|    223|   47906|   \n",
    "|[686280494707626e...| 19|     M|      student|    246|   28734|  \n",
    "|[686280494707626e...| 17|     M|      student|    257|   77005|   \n",
    "|[686280494707626e...| 19|     F|      student|    258|   77801|  \n",
    "|[686280494707626e...| 19|     F|      student|    262|   78264|\n",
    "|[686280494707626e...| 18|     F|      student|    270|   63119|   \n",
    "|[686280494707626e...| 15|     F|      student|    281|   06059|      \n",
    "|[686280494707626e...| 11|     M|         none|    289|   94619|   \n",
    "+--------------------+---+------+-------------+-------+--------+   \n"
   ]
  },
  {
   "cell_type": "markdown",
   "id": "a1e389e0-4561-4477-bb92-9cd1d7a83406",
   "metadata": {},
   "source": [
    "## Question v : Find Scientists Aged Between 30 and 40   \n",
    "\n",
    "- use Spark to filter users whose occupation is \"scientist\" and age is between 30 and 40."
   ]
  },
  {
   "cell_type": "markdown",
   "id": "b3ae5c3b-3b9c-40c7-b599-de8b5ab05c0c",
   "metadata": {},
   "source": [
    "**PySpark Query**"
   ]
  },
  {
   "cell_type": "code",
   "execution_count": null,
   "id": "cbca6eb3-e4c1-493a-9fe4-80ed9bca4783",
   "metadata": {},
   "outputs": [],
   "source": [
    "from pyspark.sql import SparkSession\n",
    "\n",
    "# Initialize SparkSession\n",
    "spark = SparkSession.builder \\\n",
    "    .appName(\"Find Scientists Between 30 and 40\") \\\n",
    "    .config(\"spark.mongodb.input.uri\", \"mongodb://127.0.0.1/movielens.users\") \\\n",
    "    .getOrCreate()\n",
    "\n",
    "# Load users collection from MongoDB\n",
    "users_df = spark.read.format(\"com.mongodb.spark.sql.DefaultSource\").load()\n",
    "\n",
    "# Filter for scientists between age 30 and 40\n",
    "scientist_users_df = users_df.filter(\n",
    "    (users_df.occupation == \"scientist\") & \n",
    "    (users_df.age >= 30) & \n",
    "    (users_df.age <= 40)\n",
    ")\n",
    "\n",
    "# Show result\n",
    "scientist_users_df.show()\n",
    "\n",
    "# Stop Spark session\n",
    "spark.stop()\n"
   ]
  },
  {
   "cell_type": "markdown",
   "id": "9f9073c1-9bb5-4bae-94ab-54173b3c6fa5",
   "metadata": {},
   "source": [
    "Resulting scientists between age 30–40 : "
   ]
  },
  {
   "cell_type": "raw",
   "id": "b681d13f-8ef8-4694-8986-470c7fc3cc6a",
   "metadata": {},
   "source": [
    "\n",
    "+--------------------+---+------+----------+-------+--------+   \n",
    "|                 _id|age|gender|occupation|user_id|zip_code|   \n",
    "+--------------------+---+------+----------+-------+--------+   \n",
    "|[686280494707626e...| 38|     M| scientist|     40|   27514|   \n",
    "|[686280494707626e...| 39|     M| scientist|     71|   98034|   \n",
    "|[686280494707626e...| 39|     M| scientist|     74|   T8H1N|    \n",
    "|[686280494707626e...| 39|     M| scientist|    107|   60466|   \n",
    "|[686280494707626e...| 33|     M| scientist|    183|   27708|   \n",
    "|[686280494707626e...| 33|     M| scientist|    272|   53706|   \n",
    "|[686280494707626e...| 40|     M| scientist|    309|   70802|   \n",
    "|[686280494707626e...| 37|     M| scientist|    337|   10522|   \n",
    "|[6862804a4707626e...| 38|     M| scientist|    430|   98199|   \n",
    "|[6862804a4707626e...| 31|     M| scientist|    538|   21010|  \n",
    "|[6862804a4707626e...| 33|     M| scientist|    543|   95123|  \n",
    "|[6862804a4707626e...| 32|     M| scientist|    554|   62901|   \n",
    "|[6862804a4707626e...| 39|     M| scientist|    643|   55122|  \n",
    "|[6862804a4707626e...| 31|     F| scientist|    730|   32114|   \n",
    "|[6862804a4707626e...| 36|     M| scientist|    874|   37076|    \n",
    "|[6862804a4707626e...| 40|     M| scientist|    918|   70116|    \n",
    "+--------------------+---+------+----------+-------+--------+   \n"
   ]
  },
  {
   "cell_type": "markdown",
   "id": "b565ce29-0a62-42af-9fab-c153af06d5b7",
   "metadata": {},
   "source": [
    "**Assignment Checklist**"
   ]
  },
  {
   "cell_type": "markdown",
   "id": "fc46b873-3109-481b-a3eb-b0fc9ad6ecaa",
   "metadata": {},
   "source": [
    "| Requirement                               | Done?                                  |\n",
    "| ----------------------------------------- | -------------------------------------- |\n",
    "| 1. Python libraries for Spark2 + NoSQL    | ✅ Yes (`pymongo`, `SparkSession`)    |\n",
    "| 2. Parse `u.user` into DB (simulate HDFS) | ✅ Yes (`mongo_insert.py`)            |\n",
    "| 3. Load + create RDDs (if needed)         | ✅/optional (Spark auto-DF works too) |\n",
    "| 4. Convert RDD → DataFrame                | ✅ Yes (or direct from Mongo)         |\n",
    "| 5. Write DF into DB (used in Q1)          | ✅ Already done in `insert_many()`     |\n",
    "| 6. Read back from DB into Spark DF        | ✅ `spark.read.format(\"mongo\")`       |\n"
   ]
  }
 ],
 "metadata": {
  "kernelspec": {
   "display_name": "Python [conda env:base] *",
   "language": "python",
   "name": "conda-base-py"
  },
  "language_info": {
   "codemirror_mode": {
    "name": "ipython",
    "version": 3
   },
   "file_extension": ".py",
   "mimetype": "text/x-python",
   "name": "python",
   "nbconvert_exporter": "python",
   "pygments_lexer": "ipython3",
   "version": "3.13.5"
  }
 },
 "nbformat": 4,
 "nbformat_minor": 5
}
